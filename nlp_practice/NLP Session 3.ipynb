{
 "cells": [
  {
   "cell_type": "code",
   "execution_count": 1,
   "id": "4c772be2",
   "metadata": {},
   "outputs": [
    {
     "name": "stdout",
     "output_type": "stream",
     "text": [
      "Requirement already satisfied: nltk in c:\\users\\vedan\\.conda\\envs\\tensorflow\\lib\\site-packages (3.8.1)\n",
      "Requirement already satisfied: click in c:\\users\\vedan\\.conda\\envs\\tensorflow\\lib\\site-packages (from nltk) (8.1.7)\n",
      "Requirement already satisfied: joblib in c:\\users\\vedan\\.conda\\envs\\tensorflow\\lib\\site-packages (from nltk) (1.1.1)\n",
      "Requirement already satisfied: regex>=2021.8.3 in c:\\users\\vedan\\.conda\\envs\\tensorflow\\lib\\site-packages (from nltk) (2023.12.25)\n",
      "Requirement already satisfied: tqdm in c:\\users\\vedan\\.conda\\envs\\tensorflow\\lib\\site-packages (from nltk) (4.65.0)\n",
      "Requirement already satisfied: colorama in c:\\users\\vedan\\.conda\\envs\\tensorflow\\lib\\site-packages (from click->nltk) (0.4.6)\n"
     ]
    }
   ],
   "source": [
    "!pip install nltk"
   ]
  },
  {
   "cell_type": "code",
   "execution_count": 2,
   "id": "c0315275",
   "metadata": {},
   "outputs": [],
   "source": [
    "paragraph = \"\"\"\n",
    "    Narendra Damodardas Modi (Gujarati: [ˈnəɾendɾə dɑmodəɾˈdɑs ˈmodiː] ⓘ; born 17 September 1950)[b] is an Indian politician who has served as the 14th prime minister of India since May 2014. Modi was the chief minister of Gujarat from 2001 to 2014 and is the Member of Parliament (MP) for Varanasi. He is a member of the Bharatiya Janata Party (BJP) and of the Rashtriya Swayamsevak Sangh (RSS), a right wing Hindu nationalist paramilitary volunteer organisation. He is the longest-serving prime minister from outside the Indian National Congress.\n",
    "\n",
    "Modi was born and raised in Vadnagar in northeastern Gujarat, where he completed his secondary education. He was introduced to the RSS at the age of eight. His account of helping his father sell tea at the Vadnagar railway station has not been reliably corroborated. At age 18, he was married to Jashodaben Modi, whom he abandoned soon after, only publicly acknowledging her four decades later when legally required to do so. Modi became a full-time worker for the RSS in Gujarat in 1971. The RSS assigned him to the BJP in 1985 and he held several positions within the party hierarchy until 2001, rising to the rank of general secretary.[c]\n",
    "\"\"\""
   ]
  },
  {
   "cell_type": "code",
   "execution_count": 3,
   "id": "96a69d7f",
   "metadata": {},
   "outputs": [
    {
     "data": {
      "text/plain": [
       "'\\n    Narendra Damodardas Modi (Gujarati: [ˈnəɾendɾə dɑmodəɾˈdɑs ˈmodiː] ⓘ; born 17 September 1950)[b] is an Indian politician who has served as the 14th prime minister of India since May 2014. Modi was the chief minister of Gujarat from 2001 to 2014 and is the Member of Parliament (MP) for Varanasi. He is a member of the Bharatiya Janata Party (BJP) and of the Rashtriya Swayamsevak Sangh (RSS), a right wing Hindu nationalist paramilitary volunteer organisation. He is the longest-serving prime minister from outside the Indian National Congress.\\n\\nModi was born and raised in Vadnagar in northeastern Gujarat, where he completed his secondary education. He was introduced to the RSS at the age of eight. His account of helping his father sell tea at the Vadnagar railway station has not been reliably corroborated. At age 18, he was married to Jashodaben Modi, whom he abandoned soon after, only publicly acknowledging her four decades later when legally required to do so. Modi became a full-time worker for the RSS in Gujarat in 1971. The RSS assigned him to the BJP in 1985 and he held several positions within the party hierarchy until 2001, rising to the rank of general secretary.[c]\\n'"
      ]
     },
     "execution_count": 3,
     "metadata": {},
     "output_type": "execute_result"
    }
   ],
   "source": [
    "paragraph"
   ]
  },
  {
   "cell_type": "code",
   "execution_count": 4,
   "id": "ad6ae912",
   "metadata": {},
   "outputs": [],
   "source": [
    "import nltk\n",
    "from nltk.stem import PorterStemmer # Used for stemming purpose...\n",
    "from nltk.corpus import stopwords # For applying stopwords"
   ]
  },
  {
   "cell_type": "code",
   "execution_count": 5,
   "id": "0f74e442",
   "metadata": {},
   "outputs": [
    {
     "name": "stderr",
     "output_type": "stream",
     "text": [
      "[nltk_data] Downloading package punkt to\n",
      "[nltk_data]     C:\\Users\\vedan\\AppData\\Roaming\\nltk_data...\n",
      "[nltk_data]   Package punkt is already up-to-date!\n"
     ]
    }
   ],
   "source": [
    "# Tokenization-- converts paragraphs -> sentences -> words\n",
    "nltk.download('punkt')\n",
    "sentences = nltk.sent_tokenize(paragraph)"
   ]
  },
  {
   "cell_type": "code",
   "execution_count": 6,
   "id": "1fb7b4b9",
   "metadata": {},
   "outputs": [
    {
     "data": {
      "text/plain": [
       "['\\n    Narendra Damodardas Modi (Gujarati: [ˈnəɾendɾə dɑmodəɾˈdɑs ˈmodiː] ⓘ; born 17 September 1950)[b] is an Indian politician who has served as the 14th prime minister of India since May 2014.',\n",
       " 'Modi was the chief minister of Gujarat from 2001 to 2014 and is the Member of Parliament (MP) for Varanasi.',\n",
       " 'He is a member of the Bharatiya Janata Party (BJP) and of the Rashtriya Swayamsevak Sangh (RSS), a right wing Hindu nationalist paramilitary volunteer organisation.',\n",
       " 'He is the longest-serving prime minister from outside the Indian National Congress.',\n",
       " 'Modi was born and raised in Vadnagar in northeastern Gujarat, where he completed his secondary education.',\n",
       " 'He was introduced to the RSS at the age of eight.',\n",
       " 'His account of helping his father sell tea at the Vadnagar railway station has not been reliably corroborated.',\n",
       " 'At age 18, he was married to Jashodaben Modi, whom he abandoned soon after, only publicly acknowledging her four decades later when legally required to do so.',\n",
       " 'Modi became a full-time worker for the RSS in Gujarat in 1971.',\n",
       " 'The RSS assigned him to the BJP in 1985 and he held several positions within the party hierarchy until 2001, rising to the rank of general secretary.',\n",
       " '[c]']"
      ]
     },
     "execution_count": 6,
     "metadata": {},
     "output_type": "execute_result"
    }
   ],
   "source": [
    "sentences"
   ]
  },
  {
   "cell_type": "code",
   "execution_count": 7,
   "id": "67765980",
   "metadata": {},
   "outputs": [
    {
     "data": {
      "text/plain": [
       "'\\n    Narendra Damodardas Modi (Gujarati: [ˈnəɾendɾə dɑmodəɾˈdɑs ˈmodiː] ⓘ; born 17 September 1950)[b] is an Indian politician who has served as the 14th prime minister of India since May 2014.'"
      ]
     },
     "execution_count": 7,
     "metadata": {},
     "output_type": "execute_result"
    }
   ],
   "source": [
    "sentences[0]"
   ]
  },
  {
   "cell_type": "code",
   "execution_count": 8,
   "id": "f33fac86",
   "metadata": {},
   "outputs": [],
   "source": [
    "# Initializing our stemmer...\n",
    "stemmer = PorterStemmer()"
   ]
  },
  {
   "cell_type": "code",
   "execution_count": 9,
   "id": "7e880025",
   "metadata": {},
   "outputs": [
    {
     "data": {
      "text/plain": [
       "'think'"
      ]
     },
     "execution_count": 9,
     "metadata": {},
     "output_type": "execute_result"
    }
   ],
   "source": [
    "stemmer.stem('thinking')"
   ]
  },
  {
   "cell_type": "code",
   "execution_count": 10,
   "id": "ac10a6e1",
   "metadata": {},
   "outputs": [
    {
     "data": {
      "text/plain": [
       "'histori'"
      ]
     },
     "execution_count": 10,
     "metadata": {},
     "output_type": "execute_result"
    }
   ],
   "source": [
    "stemmer.stem('HiStOrY') # Not case-sensitive"
   ]
  },
  {
   "cell_type": "code",
   "execution_count": 11,
   "id": "79d1c798",
   "metadata": {},
   "outputs": [],
   "source": [
    "# Now we'll head up to lemmetizing...\n",
    "from nltk.stem import WordNetLemmatizer"
   ]
  },
  {
   "cell_type": "code",
   "execution_count": 12,
   "id": "17d3fed5",
   "metadata": {},
   "outputs": [],
   "source": [
    "# Initializing it...\n",
    "lemmetizer = WordNetLemmatizer()"
   ]
  },
  {
   "cell_type": "code",
   "execution_count": 13,
   "id": "39865dca",
   "metadata": {},
   "outputs": [
    {
     "name": "stderr",
     "output_type": "stream",
     "text": [
      "[nltk_data] Downloading package wordnet to\n",
      "[nltk_data]     C:\\Users\\vedan\\AppData\\Roaming\\nltk_data...\n",
      "[nltk_data]   Package wordnet is already up-to-date!\n"
     ]
    },
    {
     "data": {
      "text/plain": [
       "'history'"
      ]
     },
     "execution_count": 13,
     "metadata": {},
     "output_type": "execute_result"
    }
   ],
   "source": [
    "nltk.download('wordnet')\n",
    "lemmetizer.lemmatize('history')\n",
    "# It is giving a correct & meaningful word..."
   ]
  },
  {
   "cell_type": "code",
   "execution_count": 14,
   "id": "99cd0aca",
   "metadata": {},
   "outputs": [
    {
     "data": {
      "text/plain": [
       "'HiStOrY'"
      ]
     },
     "execution_count": 14,
     "metadata": {},
     "output_type": "execute_result"
    }
   ],
   "source": [
    "lemmetizer.lemmatize('HiStOrY') # It is case-sensitive"
   ]
  },
  {
   "cell_type": "markdown",
   "id": "180700d8",
   "metadata": {},
   "source": [
    "### Since there are too many special characters in the paragraph, we'll first of all clean it for further processing..."
   ]
  },
  {
   "cell_type": "code",
   "execution_count": 15,
   "id": "696f1f34",
   "metadata": {},
   "outputs": [
    {
     "data": {
      "text/plain": [
       "11"
      ]
     },
     "execution_count": 15,
     "metadata": {},
     "output_type": "execute_result"
    }
   ],
   "source": [
    "len(sentences)"
   ]
  },
  {
   "cell_type": "code",
   "execution_count": 16,
   "id": "a6d0edc5",
   "metadata": {},
   "outputs": [],
   "source": [
    "# Regex module...\n",
    "import re"
   ]
  },
  {
   "cell_type": "code",
   "execution_count": 17,
   "id": "5b54c6ea",
   "metadata": {},
   "outputs": [],
   "source": [
    "corpus = []\n",
    "for i in range(len(sentences)):\n",
    "    # We'll replace all the characters other than Lower or Upercase a to z with a blank space in sentences[i]\n",
    "    review = re.sub('[^a-zA-Z]', ' ', sentences[i])\n",
    "    review = review.lower()\n",
    "    corpus.append(review)"
   ]
  },
  {
   "cell_type": "code",
   "execution_count": 18,
   "id": "f07238ce",
   "metadata": {},
   "outputs": [
    {
     "data": {
      "text/plain": [
       "['     narendra damodardas modi  gujarati    n  end   d mod   d s  modi      born    september       b  is an indian politician who has served as the   th prime minister of india since may      ',\n",
       " 'modi was the chief minister of gujarat from      to      and is the member of parliament  mp  for varanasi ',\n",
       " 'he is a member of the bharatiya janata party  bjp  and of the rashtriya swayamsevak sangh  rss   a right wing hindu nationalist paramilitary volunteer organisation ',\n",
       " 'he is the longest serving prime minister from outside the indian national congress ',\n",
       " 'modi was born and raised in vadnagar in northeastern gujarat  where he completed his secondary education ',\n",
       " 'he was introduced to the rss at the age of eight ',\n",
       " 'his account of helping his father sell tea at the vadnagar railway station has not been reliably corroborated ',\n",
       " 'at age     he was married to jashodaben modi  whom he abandoned soon after  only publicly acknowledging her four decades later when legally required to do so ',\n",
       " 'modi became a full time worker for the rss in gujarat in      ',\n",
       " 'the rss assigned him to the bjp in      and he held several positions within the party hierarchy until       rising to the rank of general secretary ',\n",
       " ' c ']"
      ]
     },
     "execution_count": 18,
     "metadata": {},
     "output_type": "execute_result"
    }
   ],
   "source": [
    "corpus"
   ]
  },
  {
   "cell_type": "code",
   "execution_count": 19,
   "id": "c6b34434",
   "metadata": {},
   "outputs": [
    {
     "name": "stderr",
     "output_type": "stream",
     "text": [
      "[nltk_data] Downloading package stopwords to\n",
      "[nltk_data]     C:\\Users\\vedan\\AppData\\Roaming\\nltk_data...\n",
      "[nltk_data]   Package stopwords is already up-to-date!\n"
     ]
    },
    {
     "data": {
      "text/plain": [
       "True"
      ]
     },
     "execution_count": 19,
     "metadata": {},
     "output_type": "execute_result"
    }
   ],
   "source": [
    "nltk.download('stopwords')"
   ]
  },
  {
   "cell_type": "code",
   "execution_count": 20,
   "id": "dcfc51a8",
   "metadata": {},
   "outputs": [
    {
     "data": {
      "text/plain": [
       "['i',\n",
       " 'me',\n",
       " 'my',\n",
       " 'myself',\n",
       " 'we',\n",
       " 'our',\n",
       " 'ours',\n",
       " 'ourselves',\n",
       " 'you',\n",
       " \"you're\",\n",
       " \"you've\",\n",
       " \"you'll\",\n",
       " \"you'd\",\n",
       " 'your',\n",
       " 'yours',\n",
       " 'yourself',\n",
       " 'yourselves',\n",
       " 'he',\n",
       " 'him',\n",
       " 'his',\n",
       " 'himself',\n",
       " 'she',\n",
       " \"she's\",\n",
       " 'her',\n",
       " 'hers',\n",
       " 'herself',\n",
       " 'it',\n",
       " \"it's\",\n",
       " 'its',\n",
       " 'itself',\n",
       " 'they',\n",
       " 'them',\n",
       " 'their',\n",
       " 'theirs',\n",
       " 'themselves',\n",
       " 'what',\n",
       " 'which',\n",
       " 'who',\n",
       " 'whom',\n",
       " 'this',\n",
       " 'that',\n",
       " \"that'll\",\n",
       " 'these',\n",
       " 'those',\n",
       " 'am',\n",
       " 'is',\n",
       " 'are',\n",
       " 'was',\n",
       " 'were',\n",
       " 'be',\n",
       " 'been',\n",
       " 'being',\n",
       " 'have',\n",
       " 'has',\n",
       " 'had',\n",
       " 'having',\n",
       " 'do',\n",
       " 'does',\n",
       " 'did',\n",
       " 'doing',\n",
       " 'a',\n",
       " 'an',\n",
       " 'the',\n",
       " 'and',\n",
       " 'but',\n",
       " 'if',\n",
       " 'or',\n",
       " 'because',\n",
       " 'as',\n",
       " 'until',\n",
       " 'while',\n",
       " 'of',\n",
       " 'at',\n",
       " 'by',\n",
       " 'for',\n",
       " 'with',\n",
       " 'about',\n",
       " 'against',\n",
       " 'between',\n",
       " 'into',\n",
       " 'through',\n",
       " 'during',\n",
       " 'before',\n",
       " 'after',\n",
       " 'above',\n",
       " 'below',\n",
       " 'to',\n",
       " 'from',\n",
       " 'up',\n",
       " 'down',\n",
       " 'in',\n",
       " 'out',\n",
       " 'on',\n",
       " 'off',\n",
       " 'over',\n",
       " 'under',\n",
       " 'again',\n",
       " 'further',\n",
       " 'then',\n",
       " 'once',\n",
       " 'here',\n",
       " 'there',\n",
       " 'when',\n",
       " 'where',\n",
       " 'why',\n",
       " 'how',\n",
       " 'all',\n",
       " 'any',\n",
       " 'both',\n",
       " 'each',\n",
       " 'few',\n",
       " 'more',\n",
       " 'most',\n",
       " 'other',\n",
       " 'some',\n",
       " 'such',\n",
       " 'no',\n",
       " 'nor',\n",
       " 'not',\n",
       " 'only',\n",
       " 'own',\n",
       " 'same',\n",
       " 'so',\n",
       " 'than',\n",
       " 'too',\n",
       " 'very',\n",
       " 's',\n",
       " 't',\n",
       " 'can',\n",
       " 'will',\n",
       " 'just',\n",
       " 'don',\n",
       " \"don't\",\n",
       " 'should',\n",
       " \"should've\",\n",
       " 'now',\n",
       " 'd',\n",
       " 'll',\n",
       " 'm',\n",
       " 'o',\n",
       " 're',\n",
       " 've',\n",
       " 'y',\n",
       " 'ain',\n",
       " 'aren',\n",
       " \"aren't\",\n",
       " 'couldn',\n",
       " \"couldn't\",\n",
       " 'didn',\n",
       " \"didn't\",\n",
       " 'doesn',\n",
       " \"doesn't\",\n",
       " 'hadn',\n",
       " \"hadn't\",\n",
       " 'hasn',\n",
       " \"hasn't\",\n",
       " 'haven',\n",
       " \"haven't\",\n",
       " 'isn',\n",
       " \"isn't\",\n",
       " 'ma',\n",
       " 'mightn',\n",
       " \"mightn't\",\n",
       " 'mustn',\n",
       " \"mustn't\",\n",
       " 'needn',\n",
       " \"needn't\",\n",
       " 'shan',\n",
       " \"shan't\",\n",
       " 'shouldn',\n",
       " \"shouldn't\",\n",
       " 'wasn',\n",
       " \"wasn't\",\n",
       " 'weren',\n",
       " \"weren't\",\n",
       " 'won',\n",
       " \"won't\",\n",
       " 'wouldn',\n",
       " \"wouldn't\"]"
      ]
     },
     "execution_count": 20,
     "metadata": {},
     "output_type": "execute_result"
    }
   ],
   "source": [
    "stopwords.words('english')"
   ]
  },
  {
   "cell_type": "code",
   "execution_count": 21,
   "id": "767acabc",
   "metadata": {},
   "outputs": [
    {
     "name": "stdout",
     "output_type": "stream",
     "text": [
      "narendra\n",
      "damodardas\n",
      "modi\n",
      "gujarati\n",
      "n\n",
      "end\n",
      "mod\n",
      "modi\n",
      "born\n",
      "september\n",
      "b\n",
      "indian\n",
      "politician\n",
      "served\n",
      "th\n",
      "prime\n",
      "minister\n",
      "india\n",
      "since\n",
      "may\n",
      "modi\n",
      "chief\n",
      "minister\n",
      "gujarat\n",
      "member\n",
      "parliament\n",
      "mp\n",
      "varanasi\n",
      "member\n",
      "bharatiya\n",
      "janata\n",
      "party\n",
      "bjp\n",
      "rashtriya\n",
      "swayamsevak\n",
      "sangh\n",
      "r\n",
      "right\n",
      "wing\n",
      "hindu\n",
      "nationalist\n",
      "paramilitary\n",
      "volunteer\n",
      "organisation\n",
      "longest\n",
      "serving\n",
      "prime\n",
      "minister\n",
      "outside\n",
      "indian\n",
      "national\n",
      "congress\n",
      "modi\n",
      "born\n",
      "raised\n",
      "vadnagar\n",
      "northeastern\n",
      "gujarat\n",
      "completed\n",
      "secondary\n",
      "education\n",
      "introduced\n",
      "r\n",
      "age\n",
      "eight\n",
      "account\n",
      "helping\n",
      "father\n",
      "sell\n",
      "tea\n",
      "vadnagar\n",
      "railway\n",
      "station\n",
      "reliably\n",
      "corroborated\n",
      "age\n",
      "married\n",
      "jashodaben\n",
      "modi\n",
      "abandoned\n",
      "soon\n",
      "publicly\n",
      "acknowledging\n",
      "four\n",
      "decade\n",
      "later\n",
      "legally\n",
      "required\n",
      "modi\n",
      "became\n",
      "full\n",
      "time\n",
      "worker\n",
      "r\n",
      "gujarat\n",
      "r\n",
      "assigned\n",
      "bjp\n",
      "held\n",
      "several\n",
      "position\n",
      "within\n",
      "party\n",
      "hierarchy\n",
      "rising\n",
      "rank\n",
      "general\n",
      "secretary\n",
      "c\n"
     ]
    }
   ],
   "source": [
    "# Now lemmatizing all the words in the corpus\n",
    "for i in corpus:\n",
    "    words = nltk.word_tokenize(i) # 'word_tokenize' basically converts sentence into words\n",
    "    for j in words:\n",
    "        if j not in set(stopwords.words('english')):\n",
    "            print(lemmetizer.lemmatize(j))"
   ]
  },
  {
   "cell_type": "code",
   "execution_count": 22,
   "id": "8403aee3",
   "metadata": {},
   "outputs": [],
   "source": [
    "# Now apply bag of words...\n",
    "from sklearn.feature_extraction.text import CountVectorizer\n",
    "cv = CountVectorizer(binary=True,ngram_range=(2,3))"
   ]
  },
  {
   "cell_type": "code",
   "execution_count": 23,
   "id": "c7014f0d",
   "metadata": {},
   "outputs": [],
   "source": [
    "X = cv.fit_transform(corpus)"
   ]
  },
  {
   "cell_type": "code",
   "execution_count": 24,
   "id": "bdce654b",
   "metadata": {},
   "outputs": [
    {
     "data": {
      "text/plain": [
       "{'narendra damodardas': 169,\n",
       " 'damodardas modi': 49,\n",
       " 'modi gujarati': 160,\n",
       " 'gujarati end': 75,\n",
       " 'end mod': 54,\n",
       " 'mod modi': 154,\n",
       " 'modi born': 158,\n",
       " 'born september': 43,\n",
       " 'september is': 241,\n",
       " 'is an': 127,\n",
       " 'an indian': 12,\n",
       " 'indian politician': 123,\n",
       " 'politician who': 204,\n",
       " 'who has': 319,\n",
       " 'has served': 79,\n",
       " 'served as': 243,\n",
       " 'as the': 22,\n",
       " 'the th': 284,\n",
       " 'th prime': 258,\n",
       " 'prime minister': 208,\n",
       " 'minister of': 151,\n",
       " 'of india': 185,\n",
       " 'india since': 119,\n",
       " 'since may': 249,\n",
       " 'narendra damodardas modi': 170,\n",
       " 'damodardas modi gujarati': 50,\n",
       " 'modi gujarati end': 161,\n",
       " 'gujarati end mod': 76,\n",
       " 'end mod modi': 55,\n",
       " 'mod modi born': 155,\n",
       " 'modi born september': 159,\n",
       " 'born september is': 44,\n",
       " 'september is an': 242,\n",
       " 'is an indian': 128,\n",
       " 'an indian politician': 13,\n",
       " 'indian politician who': 124,\n",
       " 'politician who has': 205,\n",
       " 'who has served': 320,\n",
       " 'has served as': 80,\n",
       " 'served as the': 244,\n",
       " 'as the th': 23,\n",
       " 'the th prime': 285,\n",
       " 'th prime minister': 259,\n",
       " 'prime minister of': 210,\n",
       " 'minister of india': 153,\n",
       " 'of india since': 186,\n",
       " 'india since may': 120,\n",
       " 'modi was': 162,\n",
       " 'was the': 313,\n",
       " 'the chief': 266,\n",
       " 'chief minister': 45,\n",
       " 'of gujarat': 181,\n",
       " 'gujarat from': 70,\n",
       " 'from to': 65,\n",
       " 'to and': 290,\n",
       " 'and is': 16,\n",
       " 'is the': 131,\n",
       " 'the member': 272,\n",
       " 'member of': 146,\n",
       " 'of parliament': 187,\n",
       " 'parliament mp': 198,\n",
       " 'mp for': 167,\n",
       " 'for varanasi': 60,\n",
       " 'modi was the': 164,\n",
       " 'was the chief': 314,\n",
       " 'the chief minister': 267,\n",
       " 'chief minister of': 46,\n",
       " 'minister of gujarat': 152,\n",
       " 'of gujarat from': 182,\n",
       " 'gujarat from to': 71,\n",
       " 'from to and': 66,\n",
       " 'to and is': 291,\n",
       " 'and is the': 17,\n",
       " 'is the member': 133,\n",
       " 'the member of': 273,\n",
       " 'member of parliament': 147,\n",
       " 'of parliament mp': 188,\n",
       " 'parliament mp for': 199,\n",
       " 'mp for varanasi': 168,\n",
       " 'he is': 87,\n",
       " 'is member': 129,\n",
       " 'of the': 189,\n",
       " 'the bharatiya': 262,\n",
       " 'bharatiya janata': 35,\n",
       " 'janata party': 134,\n",
       " 'party bjp': 200,\n",
       " 'bjp and': 37,\n",
       " 'and of': 18,\n",
       " 'the rashtriya': 278,\n",
       " 'rashtriya swayamsevak': 219,\n",
       " 'swayamsevak sangh': 254,\n",
       " 'sangh rss': 236,\n",
       " 'rss right': 234,\n",
       " 'right wing': 224,\n",
       " 'wing hindu': 323,\n",
       " 'hindu nationalist': 103,\n",
       " 'nationalist paramilitary': 172,\n",
       " 'paramilitary volunteer': 196,\n",
       " 'volunteer organisation': 306,\n",
       " 'he is member': 88,\n",
       " 'is member of': 130,\n",
       " 'member of the': 148,\n",
       " 'of the bharatiya': 190,\n",
       " 'the bharatiya janata': 263,\n",
       " 'bharatiya janata party': 36,\n",
       " 'janata party bjp': 135,\n",
       " 'party bjp and': 201,\n",
       " 'bjp and of': 38,\n",
       " 'and of the': 19,\n",
       " 'of the rashtriya': 191,\n",
       " 'the rashtriya swayamsevak': 279,\n",
       " 'rashtriya swayamsevak sangh': 220,\n",
       " 'swayamsevak sangh rss': 255,\n",
       " 'sangh rss right': 237,\n",
       " 'rss right wing': 235,\n",
       " 'right wing hindu': 225,\n",
       " 'wing hindu nationalist': 324,\n",
       " 'hindu nationalist paramilitary': 104,\n",
       " 'nationalist paramilitary volunteer': 173,\n",
       " 'paramilitary volunteer organisation': 197,\n",
       " 'the longest': 270,\n",
       " 'longest serving': 142,\n",
       " 'serving prime': 245,\n",
       " 'minister from': 149,\n",
       " 'from outside': 63,\n",
       " 'outside the': 194,\n",
       " 'the indian': 268,\n",
       " 'indian national': 121,\n",
       " 'national congress': 171,\n",
       " 'he is the': 89,\n",
       " 'is the longest': 132,\n",
       " 'the longest serving': 271,\n",
       " 'longest serving prime': 143,\n",
       " 'serving prime minister': 246,\n",
       " 'prime minister from': 209,\n",
       " 'minister from outside': 150,\n",
       " 'from outside the': 64,\n",
       " 'outside the indian': 195,\n",
       " 'the indian national': 269,\n",
       " 'indian national congress': 122,\n",
       " 'was born': 307,\n",
       " 'born and': 41,\n",
       " 'and raised': 20,\n",
       " 'raised in': 215,\n",
       " 'in vadnagar': 117,\n",
       " 'vadnagar in': 302,\n",
       " 'in northeastern': 115,\n",
       " 'northeastern gujarat': 174,\n",
       " 'gujarat where': 73,\n",
       " 'where he': 317,\n",
       " 'he completed': 83,\n",
       " 'completed his': 47,\n",
       " 'his secondary': 109,\n",
       " 'secondary education': 238,\n",
       " 'modi was born': 163,\n",
       " 'was born and': 308,\n",
       " 'born and raised': 42,\n",
       " 'and raised in': 21,\n",
       " 'raised in vadnagar': 216,\n",
       " 'in vadnagar in': 118,\n",
       " 'vadnagar in northeastern': 303,\n",
       " 'in northeastern gujarat': 116,\n",
       " 'northeastern gujarat where': 175,\n",
       " 'gujarat where he': 74,\n",
       " 'where he completed': 318,\n",
       " 'he completed his': 84,\n",
       " 'completed his secondary': 48,\n",
       " 'his secondary education': 110,\n",
       " 'he was': 90,\n",
       " 'was introduced': 309,\n",
       " 'introduced to': 125,\n",
       " 'to the': 296,\n",
       " 'the rss': 280,\n",
       " 'rss at': 230,\n",
       " 'at the': 28,\n",
       " 'the age': 260,\n",
       " 'age of': 10,\n",
       " 'of eight': 178,\n",
       " 'he was introduced': 91,\n",
       " 'was introduced to': 310,\n",
       " 'introduced to the': 126,\n",
       " 'to the rss': 299,\n",
       " 'the rss at': 282,\n",
       " 'rss at the': 231,\n",
       " 'at the age': 29,\n",
       " 'the age of': 261,\n",
       " 'age of eight': 11,\n",
       " 'his account': 105,\n",
       " 'account of': 2,\n",
       " 'of helping': 183,\n",
       " 'helping his': 95,\n",
       " 'his father': 107,\n",
       " 'father sell': 56,\n",
       " 'sell tea': 239,\n",
       " 'tea at': 256,\n",
       " 'the vadnagar': 286,\n",
       " 'vadnagar railway': 304,\n",
       " 'railway station': 213,\n",
       " 'station has': 252,\n",
       " 'has not': 77,\n",
       " 'not been': 176,\n",
       " 'been reliably': 33,\n",
       " 'reliably corroborated': 221,\n",
       " 'his account of': 106,\n",
       " 'account of helping': 3,\n",
       " 'of helping his': 184,\n",
       " 'helping his father': 96,\n",
       " 'his father sell': 108,\n",
       " 'father sell tea': 57,\n",
       " 'sell tea at': 240,\n",
       " 'tea at the': 257,\n",
       " 'at the vadnagar': 30,\n",
       " 'the vadnagar railway': 287,\n",
       " 'vadnagar railway station': 305,\n",
       " 'railway station has': 214,\n",
       " 'station has not': 253,\n",
       " 'has not been': 78,\n",
       " 'not been reliably': 177,\n",
       " 'been reliably corroborated': 34,\n",
       " 'at age': 26,\n",
       " 'age he': 8,\n",
       " 'was married': 311,\n",
       " 'married to': 144,\n",
       " 'to jashodaben': 294,\n",
       " 'jashodaben modi': 136,\n",
       " 'modi whom': 165,\n",
       " 'whom he': 321,\n",
       " 'he abandoned': 81,\n",
       " 'abandoned soon': 0,\n",
       " 'soon after': 250,\n",
       " 'after only': 6,\n",
       " 'only publicly': 192,\n",
       " 'publicly acknowledging': 211,\n",
       " 'acknowledging her': 4,\n",
       " 'her four': 97,\n",
       " 'four decades': 61,\n",
       " 'decades later': 51,\n",
       " 'later when': 138,\n",
       " 'when legally': 315,\n",
       " 'legally required': 140,\n",
       " 'required to': 222,\n",
       " 'to do': 292,\n",
       " 'do so': 53,\n",
       " 'at age he': 27,\n",
       " 'age he was': 9,\n",
       " 'he was married': 92,\n",
       " 'was married to': 312,\n",
       " 'married to jashodaben': 145,\n",
       " 'to jashodaben modi': 295,\n",
       " 'jashodaben modi whom': 137,\n",
       " 'modi whom he': 166,\n",
       " 'whom he abandoned': 322,\n",
       " 'he abandoned soon': 82,\n",
       " 'abandoned soon after': 1,\n",
       " 'soon after only': 251,\n",
       " 'after only publicly': 7,\n",
       " 'only publicly acknowledging': 193,\n",
       " 'publicly acknowledging her': 212,\n",
       " 'acknowledging her four': 5,\n",
       " 'her four decades': 98,\n",
       " 'four decades later': 62,\n",
       " 'decades later when': 52,\n",
       " 'later when legally': 139,\n",
       " 'when legally required': 316,\n",
       " 'legally required to': 141,\n",
       " 'required to do': 223,\n",
       " 'to do so': 293,\n",
       " 'modi became': 156,\n",
       " 'became full': 31,\n",
       " 'full time': 67,\n",
       " 'time worker': 288,\n",
       " 'worker for': 327,\n",
       " 'for the': 58,\n",
       " 'rss in': 232,\n",
       " 'in gujarat': 113,\n",
       " 'gujarat in': 72,\n",
       " 'modi became full': 157,\n",
       " 'became full time': 32,\n",
       " 'full time worker': 68,\n",
       " 'time worker for': 289,\n",
       " 'worker for the': 328,\n",
       " 'for the rss': 59,\n",
       " 'the rss in': 283,\n",
       " 'rss in gujarat': 233,\n",
       " 'in gujarat in': 114,\n",
       " 'rss assigned': 228,\n",
       " 'assigned him': 24,\n",
       " 'him to': 101,\n",
       " 'the bjp': 264,\n",
       " 'bjp in': 39,\n",
       " 'in and': 111,\n",
       " 'and he': 14,\n",
       " 'he held': 85,\n",
       " 'held several': 93,\n",
       " 'several positions': 247,\n",
       " 'positions within': 206,\n",
       " 'within the': 325,\n",
       " 'the party': 274,\n",
       " 'party hierarchy': 202,\n",
       " 'hierarchy until': 99,\n",
       " 'until rising': 300,\n",
       " 'rising to': 226,\n",
       " 'the rank': 276,\n",
       " 'rank of': 217,\n",
       " 'of general': 179,\n",
       " 'general secretary': 69,\n",
       " 'the rss assigned': 281,\n",
       " 'rss assigned him': 229,\n",
       " 'assigned him to': 25,\n",
       " 'him to the': 102,\n",
       " 'to the bjp': 297,\n",
       " 'the bjp in': 265,\n",
       " 'bjp in and': 40,\n",
       " 'in and he': 112,\n",
       " 'and he held': 15,\n",
       " 'he held several': 86,\n",
       " 'held several positions': 94,\n",
       " 'several positions within': 248,\n",
       " 'positions within the': 207,\n",
       " 'within the party': 326,\n",
       " 'the party hierarchy': 275,\n",
       " 'party hierarchy until': 203,\n",
       " 'hierarchy until rising': 100,\n",
       " 'until rising to': 301,\n",
       " 'rising to the': 227,\n",
       " 'to the rank': 298,\n",
       " 'the rank of': 277,\n",
       " 'rank of general': 218,\n",
       " 'of general secretary': 180}"
      ]
     },
     "execution_count": 24,
     "metadata": {},
     "output_type": "execute_result"
    }
   ],
   "source": [
    "cv.vocabulary_"
   ]
  },
  {
   "cell_type": "markdown",
   "id": "f8cab761",
   "metadata": {},
   "source": [
    "### These numbers written after the vocabulary words are the indexes of the words when these words are written in a tabular format and are alphabetically arranged."
   ]
  },
  {
   "cell_type": "code",
   "execution_count": 25,
   "id": "26a4fba3",
   "metadata": {},
   "outputs": [
    {
     "data": {
      "text/plain": [
       "'     narendra damodardas modi  gujarati    n  end   d mod   d s  modi      born    september       b  is an indian politician who has served as the   th prime minister of india since may      '"
      ]
     },
     "execution_count": 25,
     "metadata": {},
     "output_type": "execute_result"
    }
   ],
   "source": [
    "(corpus[0])"
   ]
  },
  {
   "cell_type": "code",
   "execution_count": 26,
   "id": "1000fd4d",
   "metadata": {},
   "outputs": [
    {
     "data": {
      "text/plain": [
       "192"
      ]
     },
     "execution_count": 26,
     "metadata": {},
     "output_type": "execute_result"
    }
   ],
   "source": [
    "len(corpus[0])"
   ]
  },
  {
   "cell_type": "code",
   "execution_count": 27,
   "id": "e023c07b",
   "metadata": {},
   "outputs": [
    {
     "data": {
      "text/plain": [
       "array([[0, 0, 0, 0, 0, 0, 0, 0, 0, 0, 0, 0, 1, 1, 0, 0, 0, 0, 0, 0, 0, 0,\n",
       "        1, 1, 0, 0, 0, 0, 0, 0, 0, 0, 0, 0, 0, 0, 0, 0, 0, 0, 0, 0, 0, 1,\n",
       "        1, 0, 0, 0, 0, 1, 1, 0, 0, 0, 1, 1, 0, 0, 0, 0, 0, 0, 0, 0, 0, 0,\n",
       "        0, 0, 0, 0, 0, 0, 0, 0, 0, 1, 1, 0, 0, 1, 1, 0, 0, 0, 0, 0, 0, 0,\n",
       "        0, 0, 0, 0, 0, 0, 0, 0, 0, 0, 0, 0, 0, 0, 0, 0, 0, 0, 0, 0, 0, 0,\n",
       "        0, 0, 0, 0, 0, 0, 0, 0, 0, 1, 1, 0, 0, 1, 1, 0, 0, 1, 1, 0, 0, 0,\n",
       "        0, 0, 0, 0, 0, 0, 0, 0, 0, 0, 0, 0, 0, 0, 0, 0, 0, 0, 0, 1, 0, 1,\n",
       "        1, 1, 0, 0, 1, 1, 1, 1, 0, 0, 0, 0, 0, 0, 0, 1, 1, 0, 0, 0, 0, 0,\n",
       "        0, 0, 0, 0, 0, 0, 0, 0, 0, 1, 1, 0, 0, 0, 0, 0, 0, 0, 0, 0, 0, 0,\n",
       "        0, 0, 0, 0, 0, 0, 1, 1, 0, 0, 1, 0, 1, 0, 0, 0, 0, 0, 0, 0, 0, 0,\n",
       "        0, 0, 0, 0, 0, 0, 0, 0, 0, 0, 0, 0, 0, 0, 0, 0, 0, 0, 0, 0, 0, 1,\n",
       "        1, 1, 1, 0, 0, 0, 0, 1, 0, 0, 0, 0, 0, 0, 0, 0, 1, 1, 0, 0, 0, 0,\n",
       "        0, 0, 0, 0, 0, 0, 0, 0, 0, 0, 0, 0, 0, 0, 0, 0, 0, 0, 0, 0, 1, 1,\n",
       "        0, 0, 0, 0, 0, 0, 0, 0, 0, 0, 0, 0, 0, 0, 0, 0, 0, 0, 0, 0, 0, 0,\n",
       "        0, 0, 0, 0, 0, 0, 0, 0, 0, 0, 0, 1, 1, 0, 0, 0, 0, 0, 0, 0, 0]],\n",
       "      dtype=int64)"
      ]
     },
     "execution_count": 27,
     "metadata": {},
     "output_type": "execute_result"
    }
   ],
   "source": [
    "(X[0].toarray())\n",
    "# This array contains the count of each word of first sentence (i.e. corpus[0])"
   ]
  },
  {
   "cell_type": "code",
   "execution_count": 28,
   "id": "b7a3d08f",
   "metadata": {},
   "outputs": [
    {
     "data": {
      "text/plain": [
       "(11, 329)"
      ]
     },
     "execution_count": 28,
     "metadata": {},
     "output_type": "execute_result"
    }
   ],
   "source": [
    "X.shape"
   ]
  },
  {
   "cell_type": "code",
   "execution_count": 29,
   "id": "b83f7fcf",
   "metadata": {},
   "outputs": [
    {
     "name": "stdout",
     "output_type": "stream",
     "text": [
      "  (0, 169)\t1\n",
      "  (0, 49)\t1\n",
      "  (0, 160)\t1\n",
      "  (0, 75)\t1\n",
      "  (0, 54)\t1\n",
      "  (0, 154)\t1\n",
      "  (0, 158)\t1\n",
      "  (0, 43)\t1\n",
      "  (0, 241)\t1\n",
      "  (0, 127)\t1\n",
      "  (0, 12)\t1\n",
      "  (0, 123)\t1\n",
      "  (0, 204)\t1\n",
      "  (0, 319)\t1\n",
      "  (0, 79)\t1\n",
      "  (0, 243)\t1\n",
      "  (0, 22)\t1\n",
      "  (0, 284)\t1\n",
      "  (0, 258)\t1\n",
      "  (0, 208)\t1\n",
      "  (0, 151)\t1\n",
      "  (0, 185)\t1\n",
      "  (0, 119)\t1\n",
      "  (0, 249)\t1\n",
      "  (0, 170)\t1\n",
      "  (0, 50)\t1\n",
      "  (0, 161)\t1\n",
      "  (0, 76)\t1\n",
      "  (0, 55)\t1\n",
      "  (0, 155)\t1\n",
      "  (0, 159)\t1\n",
      "  (0, 44)\t1\n",
      "  (0, 242)\t1\n",
      "  (0, 128)\t1\n",
      "  (0, 13)\t1\n",
      "  (0, 124)\t1\n",
      "  (0, 205)\t1\n",
      "  (0, 320)\t1\n",
      "  (0, 80)\t1\n",
      "  (0, 244)\t1\n",
      "  (0, 23)\t1\n",
      "  (0, 285)\t1\n",
      "  (0, 259)\t1\n",
      "  (0, 210)\t1\n",
      "  (0, 153)\t1\n",
      "  (0, 186)\t1\n",
      "  (0, 120)\t1\n"
     ]
    }
   ],
   "source": [
    "print(X[0])"
   ]
  },
  {
   "cell_type": "markdown",
   "id": "bed8019a",
   "metadata": {},
   "source": [
    "# Refer \"https://www.geeksforgeeks.org/using-countvectorizer-to-extracting-features-from-text/ \" Refer this link to get a better understanding of bag of words."
   ]
  },
  {
   "cell_type": "markdown",
   "id": "857021a4",
   "metadata": {},
   "source": [
    "# -----------------------------------------------------------------------------------------------------------"
   ]
  },
  {
   "cell_type": "markdown",
   "id": "85c7cf62",
   "metadata": {},
   "source": [
    "# TF-IDF Implementation..."
   ]
  },
  {
   "cell_type": "code",
   "execution_count": 36,
   "id": "ca158437",
   "metadata": {},
   "outputs": [],
   "source": [
    "from sklearn.feature_extraction.text import TfidfVectorizer\n",
    "tv = TfidfVectorizer(max_features=10) # It will take top 10 highest-occuring feature\n",
    "X = tv.fit_transform(corpus)"
   ]
  },
  {
   "cell_type": "markdown",
   "id": "979d9243",
   "metadata": {},
   "source": [
    "It is always better to take the max_features as some value bcz most values may be present only one time (which is of least importance and unnecessarily increase the vector). So, using this method we can remove those features."
   ]
  },
  {
   "cell_type": "code",
   "execution_count": 37,
   "id": "19cd1aba",
   "metadata": {},
   "outputs": [
    {
     "data": {
      "text/plain": [
       "'     narendra damodardas modi  gujarati    n  end   d mod   d s  modi      born    september       b  is an indian politician who has served as the   th prime minister of india since may      '"
      ]
     },
     "execution_count": 37,
     "metadata": {},
     "output_type": "execute_result"
    }
   ],
   "source": [
    "corpus[0]"
   ]
  },
  {
   "cell_type": "code",
   "execution_count": 38,
   "id": "9204bee2",
   "metadata": {},
   "outputs": [
    {
     "data": {
      "text/plain": [
       "array([[0.        , 0.        , 0.        , 0.43013745, 0.77664426,\n",
       "        0.35296778, 0.        , 0.29532899, 0.        , 0.        ]])"
      ]
     },
     "execution_count": 38,
     "metadata": {},
     "output_type": "execute_result"
    }
   ],
   "source": [
    "X[0].toarray()"
   ]
  },
  {
   "cell_type": "code",
   "execution_count": null,
   "id": "b9a790ca",
   "metadata": {},
   "outputs": [],
   "source": []
  }
 ],
 "metadata": {
  "kernelspec": {
   "display_name": "Python 3 (ipykernel)",
   "language": "python",
   "name": "python3"
  },
  "language_info": {
   "codemirror_mode": {
    "name": "ipython",
    "version": 3
   },
   "file_extension": ".py",
   "mimetype": "text/x-python",
   "name": "python",
   "nbconvert_exporter": "python",
   "pygments_lexer": "ipython3",
   "version": "3.10.11"
  }
 },
 "nbformat": 4,
 "nbformat_minor": 5
}
